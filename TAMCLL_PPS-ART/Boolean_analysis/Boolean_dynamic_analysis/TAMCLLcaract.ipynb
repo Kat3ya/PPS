{
 "cells": [
  {
   "cell_type": "code",
   "execution_count": 1,
   "id": "2092c6c0",
   "metadata": {},
   "outputs": [
    {
     "name": "stdout",
     "output_type": "stream",
     "text": [
      "F:\\Documentos\\FÍSICA BIOMÉDICA\\PPS\n"
     ]
    }
   ],
   "source": [
    "%cd \"F:\\Documentos\\FÍSICA BIOMÉDICA\\PPS\""
   ]
  },
  {
   "cell_type": "code",
   "execution_count": 48,
   "id": "e0760b7c",
   "metadata": {},
   "outputs": [],
   "source": [
    "#a=open('atractoresREDreducida.txt','r')\n",
    "a=open('atractoresTAM.txt','r')"
   ]
  },
  {
   "cell_type": "code",
   "execution_count": 49,
   "id": "cf8c3268",
   "metadata": {},
   "outputs": [],
   "source": [
    "import pandas as pd"
   ]
  },
  {
   "cell_type": "code",
   "execution_count": 50,
   "id": "6f8c671f",
   "metadata": {},
   "outputs": [],
   "source": [
    "AS = []\n",
    "for i in range(0, 1385):\n",
    "    AS.append(i)\n",
    "#AS"
   ]
  },
  {
   "cell_type": "code",
   "execution_count": 51,
   "id": "3e13c0d2",
   "metadata": {},
   "outputs": [],
   "source": [
    "BS = []\n",
    "for line in a:\n",
    "    if \"Attractor\" in line:\n",
    "        #print(line.split(\" \")[-2])\n",
    "        BS.append(line.split(\" \")[-2])\n",
    "#BS"
   ]
  },
  {
   "cell_type": "code",
   "execution_count": 52,
   "id": "072be53f",
   "metadata": {},
   "outputs": [],
   "source": [
    "a=open('atractoresTAM.txt','r')\n",
    "Attr = []\n",
    "flag = False\n",
    "for line in a:\n",
    "    if flag:\n",
    "        if \"V\" in line:\n",
    "            flag = False\n",
    "            #print('****************************')\n",
    "            continue\n",
    "        #print(line.split(\" \")[-4])\n",
    "        Attr.append(line.split(\" \")[-4])\n",
    "    if \"V\" in line:\n",
    "        flag = True\n",
    "#Attr"
   ]
  },
  {
   "cell_type": "code",
   "execution_count": 53,
   "id": "4f04948e",
   "metadata": {},
   "outputs": [],
   "source": [
    "def bin2dec(numero_binario):\n",
    "    numero_decimal = 0 \n",
    "    for posicion, digito_string in enumerate(numero_binario[::-1]):\n",
    "        numero_decimal += int(digito_string) * 2 ** posicion\n",
    "        \n",
    "    return numero_decimal"
   ]
  },
  {
   "cell_type": "code",
   "execution_count": 54,
   "id": "24e0874d",
   "metadata": {},
   "outputs": [],
   "source": [
    "De = []\n",
    "for i in range(len(Attr)):\n",
    "    de = bin2dec(Attr[i])\n",
    "    De.append(de)\n",
    "#De"
   ]
  },
  {
   "cell_type": "code",
   "execution_count": 55,
   "id": "5a2f42d9",
   "metadata": {},
   "outputs": [],
   "source": [
    "import numpy as np"
   ]
  },
  {
   "cell_type": "code",
   "execution_count": 56,
   "id": "da69f9f0",
   "metadata": {},
   "outputs": [],
   "source": [
    "b=open('TAM_as.txt','r')\n",
    "cont = 0\n",
    "for line in b:\n",
    "    cont +=1  "
   ]
  },
  {
   "cell_type": "code",
   "execution_count": 57,
   "id": "c7407cd8",
   "metadata": {},
   "outputs": [
    {
     "data": {
      "text/plain": [
       "67108865"
      ]
     },
     "execution_count": 57,
     "metadata": {},
     "output_type": "execute_result"
    }
   ],
   "source": [
    "cont"
   ]
  },
  {
   "cell_type": "code",
   "execution_count": 58,
   "id": "4d8471ad",
   "metadata": {},
   "outputs": [],
   "source": [
    "b=open('TAM_as.txt','r')\n",
    "Cl = np.zeros((1385,1))\n",
    "inter = np.zeros((1385,1))\n",
    "flag2 = False\n",
    "for line in b:\n",
    "    if flag2:\n",
    "        if \"attractorAssignment\" in line:\n",
    "            flag2 = False\n",
    "            print(\"**********\")\n",
    "            continue\n",
    "        index = line.split(\" \")[-2]\n",
    "        index = int(index)\n",
    "        #print(index)\n",
    "        steps = line.split(\" \")[-1]\n",
    "        steps = int(steps)\n",
    "        #print(steps)\n",
    "        if  int(steps) > Cl[index]:\n",
    "            Cl[index] = line.split(\" \")[-1]\n",
    "        if steps == 1:\n",
    "            inter[index]+=1\n",
    "    if \"attractorAssignment\" in line:\n",
    "        flag2 = True"
   ]
  },
  {
   "cell_type": "code",
   "execution_count": 59,
   "id": "c88a24e2",
   "metadata": {},
   "outputs": [
    {
     "data": {
      "text/plain": [
       "1384"
      ]
     },
     "execution_count": 59,
     "metadata": {},
     "output_type": "execute_result"
    }
   ],
   "source": [
    "Cl2=[]\n",
    "inter2=[]\n",
    "for i in range(1,1385):\n",
    "    Cl2.append(int(Cl[i]))\n",
    "    inter2.append(int(inter[i]))\n",
    "    \n",
    "#Cl2 = Cl2[1:]\n",
    "#inter2 = inter2[1:]\n",
    "len(Cl2)"
   ]
  },
  {
   "cell_type": "code",
   "execution_count": 60,
   "id": "5ea14c8a",
   "metadata": {},
   "outputs": [
    {
     "data": {
      "text/plain": [
       "(1385, 1384, 1384, 1384, 1384, 1384)"
      ]
     },
     "execution_count": 60,
     "metadata": {},
     "output_type": "execute_result"
    }
   ],
   "source": [
    "len(AS),len(Attr),len(BS),len(De),len(inter2),len(Cl2)"
   ]
  },
  {
   "cell_type": "code",
   "execution_count": 61,
   "id": "577cd44e",
   "metadata": {},
   "outputs": [
    {
     "data": {
      "text/html": [
       "<div>\n",
       "<style scoped>\n",
       "    .dataframe tbody tr th:only-of-type {\n",
       "        vertical-align: middle;\n",
       "    }\n",
       "\n",
       "    .dataframe tbody tr th {\n",
       "        vertical-align: top;\n",
       "    }\n",
       "\n",
       "    .dataframe thead th {\n",
       "        text-align: right;\n",
       "    }\n",
       "</style>\n",
       "<table border=\"1\" class=\"dataframe\">\n",
       "  <thead>\n",
       "    <tr style=\"text-align: right;\">\n",
       "      <th></th>\n",
       "      <th>AS</th>\n",
       "      <th>Attractor</th>\n",
       "      <th>Basin size</th>\n",
       "      <th>De</th>\n",
       "      <th>Interactions</th>\n",
       "      <th>C. + largo</th>\n",
       "    </tr>\n",
       "  </thead>\n",
       "  <tbody>\n",
       "    <tr>\n",
       "      <th>0</th>\n",
       "      <td>0</td>\n",
       "      <td>00000000000000000000000000</td>\n",
       "      <td>3168</td>\n",
       "      <td>0</td>\n",
       "      <td>223</td>\n",
       "      <td>2</td>\n",
       "    </tr>\n",
       "    <tr>\n",
       "      <th>1</th>\n",
       "      <td>1</td>\n",
       "      <td>10000000000001000000010000</td>\n",
       "      <td>9216</td>\n",
       "      <td>33558544</td>\n",
       "      <td>127</td>\n",
       "      <td>3</td>\n",
       "    </tr>\n",
       "    <tr>\n",
       "      <th>2</th>\n",
       "      <td>2</td>\n",
       "      <td>01000000000000000100100110</td>\n",
       "      <td>8064</td>\n",
       "      <td>16777510</td>\n",
       "      <td>127</td>\n",
       "      <td>3</td>\n",
       "    </tr>\n",
       "    <tr>\n",
       "      <th>3</th>\n",
       "      <td>3</td>\n",
       "      <td>11000000000001000100110110</td>\n",
       "      <td>24576</td>\n",
       "      <td>50336054</td>\n",
       "      <td>127</td>\n",
       "      <td>4</td>\n",
       "    </tr>\n",
       "    <tr>\n",
       "      <th>4</th>\n",
       "      <td>4</td>\n",
       "      <td>00100000000000000000000001</td>\n",
       "      <td>3168</td>\n",
       "      <td>8388609</td>\n",
       "      <td>223</td>\n",
       "      <td>2</td>\n",
       "    </tr>\n",
       "    <tr>\n",
       "      <th>...</th>\n",
       "      <td>...</td>\n",
       "      <td>...</td>\n",
       "      <td>...</td>\n",
       "      <td>...</td>\n",
       "      <td>...</td>\n",
       "      <td>...</td>\n",
       "    </tr>\n",
       "    <tr>\n",
       "      <th>1379</th>\n",
       "      <td>1379</td>\n",
       "      <td>00101000100001000100110111</td>\n",
       "      <td>11760</td>\n",
       "      <td>10621239</td>\n",
       "      <td>95</td>\n",
       "      <td>6</td>\n",
       "    </tr>\n",
       "    <tr>\n",
       "      <th>1380</th>\n",
       "      <td>1380</td>\n",
       "      <td>00000010100001000100110110</td>\n",
       "      <td>10464</td>\n",
       "      <td>659766</td>\n",
       "      <td>95</td>\n",
       "      <td>4</td>\n",
       "    </tr>\n",
       "    <tr>\n",
       "      <th>1381</th>\n",
       "      <td>1381</td>\n",
       "      <td>00100010100001000100110111</td>\n",
       "      <td>10464</td>\n",
       "      <td>9048375</td>\n",
       "      <td>95</td>\n",
       "      <td>4</td>\n",
       "    </tr>\n",
       "    <tr>\n",
       "      <th>1382</th>\n",
       "      <td>1382</td>\n",
       "      <td>00001010100001000100110110</td>\n",
       "      <td>11760</td>\n",
       "      <td>2756918</td>\n",
       "      <td>95</td>\n",
       "      <td>6</td>\n",
       "    </tr>\n",
       "    <tr>\n",
       "      <th>1383</th>\n",
       "      <td>1383</td>\n",
       "      <td>00101010100001000100110111</td>\n",
       "      <td>11760</td>\n",
       "      <td>11145527</td>\n",
       "      <td>95</td>\n",
       "      <td>6</td>\n",
       "    </tr>\n",
       "  </tbody>\n",
       "</table>\n",
       "<p>1384 rows × 6 columns</p>\n",
       "</div>"
      ],
      "text/plain": [
       "        AS                   Attractor Basin size        De  Interactions  \\\n",
       "0        0  00000000000000000000000000       3168         0           223   \n",
       "1        1  10000000000001000000010000       9216  33558544           127   \n",
       "2        2  01000000000000000100100110       8064  16777510           127   \n",
       "3        3  11000000000001000100110110      24576  50336054           127   \n",
       "4        4  00100000000000000000000001       3168   8388609           223   \n",
       "...    ...                         ...        ...       ...           ...   \n",
       "1379  1379  00101000100001000100110111      11760  10621239            95   \n",
       "1380  1380  00000010100001000100110110      10464    659766            95   \n",
       "1381  1381  00100010100001000100110111      10464   9048375            95   \n",
       "1382  1382  00001010100001000100110110      11760   2756918            95   \n",
       "1383  1383  00101010100001000100110111      11760  11145527            95   \n",
       "\n",
       "      C. + largo  \n",
       "0              2  \n",
       "1              3  \n",
       "2              3  \n",
       "3              4  \n",
       "4              2  \n",
       "...          ...  \n",
       "1379           6  \n",
       "1380           4  \n",
       "1381           4  \n",
       "1382           6  \n",
       "1383           6  \n",
       "\n",
       "[1384 rows x 6 columns]"
      ]
     },
     "execution_count": 61,
     "metadata": {},
     "output_type": "execute_result"
    }
   ],
   "source": [
    "df = pd.DataFrame(list(zip(AS, Attr, BS, De,inter2,Cl2)))\n",
    "df.columns=[\"AS\",\"Attractor\",\"Basin size\",\"De\",\"Interactions\",\"C. + largo\"]\n",
    "df"
   ]
  },
  {
   "cell_type": "code",
   "execution_count": 62,
   "id": "96852152",
   "metadata": {},
   "outputs": [],
   "source": [
    "df.to_csv(\"TAM1384.csv\",index = False,encoding='utf-8')"
   ]
  },
  {
   "cell_type": "code",
   "execution_count": null,
   "id": "fab42297",
   "metadata": {},
   "outputs": [],
   "source": [
    "path = r\"F:\\Documentos\\FÍSICA BIOMÉDICA\\PPS\\TAM78.txt\"\n",
    "\n",
    "#export DataFrame to text file\n",
    "with open(path, 'a') as f:\n",
    "    df_string = df.to_string(header=True, index=False)\n",
    "    f.write(df_string)"
   ]
  }
 ],
 "metadata": {
  "kernelspec": {
   "display_name": "Python 3 (ipykernel)",
   "language": "python",
   "name": "python3"
  },
  "language_info": {
   "codemirror_mode": {
    "name": "ipython",
    "version": 3
   },
   "file_extension": ".py",
   "mimetype": "text/x-python",
   "name": "python",
   "nbconvert_exporter": "python",
   "pygments_lexer": "ipython3",
   "version": "3.9.13"
  }
 },
 "nbformat": 4,
 "nbformat_minor": 5
}
